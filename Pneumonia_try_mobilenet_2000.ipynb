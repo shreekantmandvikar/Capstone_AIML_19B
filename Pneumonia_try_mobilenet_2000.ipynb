{
  "nbformat": 4,
  "nbformat_minor": 0,
  "metadata": {
    "colab": {
      "name": "Pneumonia_try_mobilenet_2000.ipynb",
      "provenance": [],
      "collapsed_sections": [],
      "machine_shape": "hm"
    },
    "kernelspec": {
      "name": "python3",
      "display_name": "Python 3"
    }
  },
  "cells": [
    {
      "cell_type": "code",
      "metadata": {
        "id": "w5kw5GFJcU5u",
        "colab_type": "code",
        "colab": {
          "base_uri": "https://localhost:8080/",
          "height": 119
        },
        "outputId": "2d44ed44-76e5-4a54-f6ce-d53e50aa8abf"
      },
      "source": [
        "#Upgrading the kaggle version\n",
        "!pip install --upgrade --force-reinstall --no-deps kaggle"
      ],
      "execution_count": 19,
      "outputs": [
        {
          "output_type": "stream",
          "text": [
            "Processing /root/.cache/pip/wheels/94/a7/09/68dc83c7c14fdbdf5d3f2b2da5b87e587bfc1e85df69b1130c/kaggle-1.5.8-cp36-none-any.whl\n",
            "Installing collected packages: kaggle\n",
            "  Found existing installation: kaggle 1.5.8\n",
            "    Uninstalling kaggle-1.5.8:\n",
            "      Successfully uninstalled kaggle-1.5.8\n",
            "Successfully installed kaggle-1.5.8\n"
          ],
          "name": "stdout"
        }
      ]
    },
    {
      "cell_type": "code",
      "metadata": {
        "id": "k4W8bNU0c9MY",
        "colab_type": "code",
        "colab": {
          "base_uri": "https://localhost:8080/",
          "height": 68
        },
        "outputId": "e292b58e-8b67-4ebf-f807-8318cd1c4add"
      },
      "source": [
        "#Loading the rsna-pneumonia-detection-challenge dataset\n",
        "import os\n",
        "os.environ['KAGGLE_USERNAME'] = \"shreek\" # username from the json file\n",
        "os.environ['KAGGLE_KEY'] = \"2fcd841dfedbc878a12d5c32bb7f4e6c\" # key from the json file\n",
        "!kaggle competitions download --force -c rsna-pneumonia-detection-challenge"
      ],
      "execution_count": 23,
      "outputs": [
        {
          "output_type": "stream",
          "text": [
            "Downloading rsna-pneumonia-detection-challenge.zip to /content\n",
            " 99% 3.64G/3.66G [00:31<00:00, 85.6MB/s]\n",
            "100% 3.66G/3.66G [00:31<00:00, 125MB/s] \n"
          ],
          "name": "stdout"
        }
      ]
    },
    {
      "cell_type": "code",
      "metadata": {
        "id": "Wnwuy12Ic_yq",
        "colab_type": "code",
        "colab": {}
      },
      "source": [
        "#Installing pydicom library\n",
        "!pip3 install -q pydicom         "
      ],
      "execution_count": 24,
      "outputs": []
    },
    {
      "cell_type": "code",
      "metadata": {
        "id": "iGPzOyJtdD_6",
        "colab_type": "code",
        "colab": {}
      },
      "source": [
        "#Extracting the dataset files\n",
        "path_to_zip_file='/content/rsna-pneumonia-detection-challenge.zip'\n",
        "directory_to_extract_to='/content/rsna-pneumonia-detection-challenge'\n",
        "import zipfile\n",
        "with zipfile.ZipFile(path_to_zip_file, 'r') as zip_ref:\n",
        "    zip_ref.extractall(directory_to_extract_to)"
      ],
      "execution_count": 25,
      "outputs": []
    },
    {
      "cell_type": "code",
      "metadata": {
        "id": "vg0rfvNedGVa",
        "colab_type": "code",
        "colab": {}
      },
      "source": [
        "#Loading train images\n",
        "TRAIN_DIR='/content/rsna-pneumonia-detection-challenge/stage_2_train_images'"
      ],
      "execution_count": 26,
      "outputs": []
    },
    {
      "cell_type": "code",
      "metadata": {
        "id": "KuaA0phVdLtH",
        "colab_type": "code",
        "colab": {}
      },
      "source": [
        "#The train and test pathnames are retrieved and stored in array format\n",
        "import glob\n",
        "train_images=glob.glob(TRAIN_DIR + '/*.dcm')"
      ],
      "execution_count": 27,
      "outputs": []
    },
    {
      "cell_type": "code",
      "metadata": {
        "id": "QvDYxK3qdOt_",
        "colab_type": "code",
        "colab": {}
      },
      "source": [
        "#Loading the labels dataset\n",
        "import pandas as pd\n",
        "train_lbls=pd.read_csv('/content/rsna-pneumonia-detection-challenge/stage_2_train_labels.csv')\n",
        "detail=pd.read_csv('/content/rsna-pneumonia-detection-challenge/stage_2_detailed_class_info.csv')"
      ],
      "execution_count": 28,
      "outputs": []
    },
    {
      "cell_type": "code",
      "metadata": {
        "id": "RBDRsTDNfH0C",
        "colab_type": "code",
        "colab": {}
      },
      "source": [
        "trainData=pd.merge(train_lbls,detail,on='patientId')"
      ],
      "execution_count": 29,
      "outputs": []
    },
    {
      "cell_type": "code",
      "metadata": {
        "id": "Y_KukmYCdheN",
        "colab_type": "code",
        "colab": {}
      },
      "source": [
        "import pydicom\n",
        "patientId_data=[]\n",
        "Age=[]\n",
        "patientSex=[]\n",
        "\n",
        "for i in range(len(train_images)):\n",
        "  ds = pydicom.read_file(train_images[i]) \n",
        "  Id=ds.PatientID\n",
        "  age=ds.PatientAge\n",
        "  patient_sex=ds.PatientSex\n",
        "  modality=ds.Modality\n",
        "  patientId_data.append(Id)\n",
        "  Age.append(age)\n",
        "  patientSex.append(patient_sex)\n"
      ],
      "execution_count": 30,
      "outputs": []
    },
    {
      "cell_type": "code",
      "metadata": {
        "id": "YdH2F5Sefp-L",
        "colab_type": "code",
        "colab": {}
      },
      "source": [
        "dict={'patientId':patientId_data,'Age':Age,'patientSex':patientSex}\n",
        "train_Data=pd.DataFrame(dict)"
      ],
      "execution_count": 31,
      "outputs": []
    },
    {
      "cell_type": "code",
      "metadata": {
        "id": "sd6wAFXigBnW",
        "colab_type": "code",
        "colab": {}
      },
      "source": [
        "train_data=pd.merge(trainData,train_Data,on='patientId')"
      ],
      "execution_count": 32,
      "outputs": []
    },
    {
      "cell_type": "code",
      "metadata": {
        "id": "8sB5NPVXgWmY",
        "colab_type": "code",
        "colab": {
          "base_uri": "https://localhost:8080/",
          "height": 346
        },
        "outputId": "79e40365-d7f7-46d7-dd13-fe8cf1d06094"
      },
      "source": [
        "filter=train_data.apply(lambda x:x['Target']==1,axis=1)\n",
        "tar_lbls=train_data[filter]\n",
        "import seaborn as sns\n",
        "\n",
        "plot=sns.distplot(tar_lbls['Age'])\n",
        "plot.set_title(\"Age distribution over pneumonia affected patients\")"
      ],
      "execution_count": 33,
      "outputs": [
        {
          "output_type": "stream",
          "text": [
            "/usr/local/lib/python3.6/dist-packages/statsmodels/tools/_testing.py:19: FutureWarning: pandas.util.testing is deprecated. Use the functions in the public API at pandas.testing instead.\n",
            "  import pandas.util.testing as tm\n"
          ],
          "name": "stderr"
        },
        {
          "output_type": "execute_result",
          "data": {
            "text/plain": [
              "Text(0.5, 1.0, 'Age distribution over pneumonia affected patients')"
            ]
          },
          "metadata": {
            "tags": []
          },
          "execution_count": 33
        },
        {
          "output_type": "display_data",
          "data": {
            "image/png": "[encoded data removed]",
            "text/plain": [
              "<Figure size 432x288 with 1 Axes>"
            ]
          },
          "metadata": {
            "tags": [],
            "needs_background": "light"
          }
        }
      ]
    },
    {
      "cell_type": "code",
      "metadata": {
        "id": "6mFdlrq9gfsZ",
        "colab_type": "code",
        "colab": {
          "base_uri": "https://localhost:8080/",
          "height": 298
        },
        "outputId": "a716f3ac-0395-47ec-d6c9-126f206f3bb0"
      },
      "source": [
        "import matplotlib.pyplot as plt\n",
        "\n",
        "class_count=train_data['class'].value_counts()\n",
        "sns.barplot(class_count.index, class_count.values, alpha=0.9)\n",
        "plt.title('Frequency Distribution of the types of images in dataset')\n",
        "plt.ylabel('Number of Occurrences', fontsize=12)"
      ],
      "execution_count": 34,
      "outputs": [
        {
          "output_type": "execute_result",
          "data": {
            "text/plain": [
              "Text(0, 0.5, 'Number of Occurrences')"
            ]
          },
          "metadata": {
            "tags": []
          },
          "execution_count": 34
        },
        {
          "output_type": "display_data",
          "data": {
            "image/png": "[encoded data removed]",
            "text/plain": [
              "<Figure size 432x288 with 1 Axes>"
            ]
          },
          "metadata": {
            "tags": [],
            "needs_background": "light"
          }
        }
      ]
    },
    {
      "cell_type": "code",
      "metadata": {
        "id": "UPLZMcd9goZW",
        "colab_type": "code",
        "colab": {
          "base_uri": "https://localhost:8080/",
          "height": 298
        },
        "outputId": "d62e0a08-3bce-4a23-ad7c-2e5e6efeeb83"
      },
      "source": [
        "gender_count=train_data['patientSex'].value_counts()\n",
        "sns.barplot(gender_count.index, gender_count.values, alpha=0.9)\n",
        "plt.title('Gender distribution in dataset')\n",
        "plt.ylabel('Number of Occurrences', fontsize=12)\n"
      ],
      "execution_count": 35,
      "outputs": [
        {
          "output_type": "execute_result",
          "data": {
            "text/plain": [
              "Text(0, 0.5, 'Number of Occurrences')"
            ]
          },
          "metadata": {
            "tags": []
          },
          "execution_count": 35
        },
        {
          "output_type": "display_data",
          "data": {
            "image/png": "[encoded data removed]",
            "text/plain": [
              "<Figure size 432x288 with 1 Axes>"
            ]
          },
          "metadata": {
            "tags": [],
            "needs_background": "light"
          }
        }
      ]
    },
    {
      "cell_type": "code",
      "metadata": {
        "id": "qYT2BWk6gtUB",
        "colab_type": "code",
        "colab": {
          "base_uri": "https://localhost:8080/",
          "height": 298
        },
        "outputId": "8d65f29b-d4d1-4bb1-fa35-967fe7631481"
      },
      "source": [
        "Positive_count=train_data['Target'].value_counts()\n",
        "sns.barplot(Positive_count.index, Positive_count.values, alpha=0.9)\n",
        "plt.title('Cases distribution in dataset')\n",
        "plt.ylabel('Number of Occurrences', fontsize=12)\n"
      ],
      "execution_count": 36,
      "outputs": [
        {
          "output_type": "execute_result",
          "data": {
            "text/plain": [
              "Text(0, 0.5, 'Number of Occurrences')"
            ]
          },
          "metadata": {
            "tags": []
          },
          "execution_count": 36
        },
        {
          "output_type": "display_data",
          "data": {
            "image/png": "[encoded data removed]",
            "text/plain": [
              "<Figure size 432x288 with 1 Axes>"
            ]
          },
          "metadata": {
            "tags": [],
            "needs_background": "light"
          }
        }
      ]
    },
    {
      "cell_type": "code",
      "metadata": {
        "id": "zPDzk7PHgyFP",
        "colab_type": "code",
        "colab": {}
      },
      "source": [
        "#Converting the dcm images to array \n",
        "import pydicom\n",
        "img_data=[]\n",
        "for i in range(2000):\n",
        "  ds = pydicom.read_file(train_images[i]) \n",
        "  img=ds.pixel_array\n",
        "  img_data.append(img)"
      ],
      "execution_count": 37,
      "outputs": []
    },
    {
      "cell_type": "code",
      "metadata": {
        "id": "M8kPTITnikwV",
        "colab_type": "code",
        "colab": {}
      },
      "source": [
        "#Creating a array of patient ID's\n",
        "ID=[]\n",
        "for i in range(2000):\n",
        "  ds = pydicom.read_file(train_images[i]) \n",
        "  id=ds.PatientID\n",
        "  ID.append(id)"
      ],
      "execution_count": 38,
      "outputs": []
    },
    {
      "cell_type": "code",
      "metadata": {
        "id": "qG2kBrj_psqC",
        "colab_type": "code",
        "colab": {}
      },
      "source": [
        "dict={'patientId':ID,'Image':img_data}\n",
        "image_df=pd.DataFrame(dict)"
      ],
      "execution_count": 39,
      "outputs": []
    },
    {
      "cell_type": "code",
      "metadata": {
        "id": "If0_ih5-p9ip",
        "colab_type": "code",
        "colab": {
          "base_uri": "https://localhost:8080/",
          "height": 204
        },
        "outputId": "7a35cab7-79c9-40b0-ae4e-f3235935552b"
      },
      "source": [
        "Data=pd.merge(train_data,image_df,on='patientId')\n",
        "Data.head()"
      ],
      "execution_count": 40,
      "outputs": [
        {
          "output_type": "execute_result",
          "data": {
            "text/html": [
              "<div>\n",
              "<style scoped>\n",
              "    .dataframe tbody tr th:only-of-type {\n",
              "        vertical-align: middle;\n",
              "    }\n",
              "\n",
              "    .dataframe tbody tr th {\n",
              "        vertical-align: top;\n",
              "    }\n",
              "\n",
              "    .dataframe thead th {\n",
              "        text-align: right;\n",
              "    }\n",
              "</style>\n",
              "<table border=\"1\" class=\"dataframe\">\n",
              "  <thead>\n",
              "    <tr style=\"text-align: right;\">\n",
              "      <th></th>\n",
              "      <th>patientId</th>\n",
              "      <th>x</th>\n",
              "      <th>y</th>\n",
              "      <th>width</th>\n",
              "      <th>height</th>\n",
              "      <th>Target</th>\n",
              "      <th>class</th>\n",
              "      <th>Age</th>\n",
              "      <th>patientSex</th>\n",
              "      <th>Image</th>\n",
              "    </tr>\n",
              "  </thead>\n",
              "  <tbody>\n",
              "    <tr>\n",
              "      <th>0</th>\n",
              "      <td>00436515-870c-4b36-a041-de91049b9ab4</td>\n",
              "      <td>264.0</td>\n",
              "      <td>152.0</td>\n",
              "      <td>213.0</td>\n",
              "      <td>379.0</td>\n",
              "      <td>1</td>\n",
              "      <td>Lung Opacity</td>\n",
              "      <td>32</td>\n",
              "      <td>F</td>\n",
              "      <td>[[0, 1, 2, 3, 3, 2, 3, 3, 2, 2, 2, 2, 2, 2, 2,...</td>\n",
              "    </tr>\n",
              "    <tr>\n",
              "      <th>1</th>\n",
              "      <td>00436515-870c-4b36-a041-de91049b9ab4</td>\n",
              "      <td>264.0</td>\n",
              "      <td>152.0</td>\n",
              "      <td>213.0</td>\n",
              "      <td>379.0</td>\n",
              "      <td>1</td>\n",
              "      <td>Lung Opacity</td>\n",
              "      <td>32</td>\n",
              "      <td>F</td>\n",
              "      <td>[[0, 1, 2, 3, 3, 2, 3, 3, 2, 2, 2, 2, 2, 2, 2,...</td>\n",
              "    </tr>\n",
              "    <tr>\n",
              "      <th>2</th>\n",
              "      <td>00436515-870c-4b36-a041-de91049b9ab4</td>\n",
              "      <td>562.0</td>\n",
              "      <td>152.0</td>\n",
              "      <td>256.0</td>\n",
              "      <td>453.0</td>\n",
              "      <td>1</td>\n",
              "      <td>Lung Opacity</td>\n",
              "      <td>32</td>\n",
              "      <td>F</td>\n",
              "      <td>[[0, 1, 2, 3, 3, 2, 3, 3, 2, 2, 2, 2, 2, 2, 2,...</td>\n",
              "    </tr>\n",
              "    <tr>\n",
              "      <th>3</th>\n",
              "      <td>00436515-870c-4b36-a041-de91049b9ab4</td>\n",
              "      <td>562.0</td>\n",
              "      <td>152.0</td>\n",
              "      <td>256.0</td>\n",
              "      <td>453.0</td>\n",
              "      <td>1</td>\n",
              "      <td>Lung Opacity</td>\n",
              "      <td>32</td>\n",
              "      <td>F</td>\n",
              "      <td>[[0, 1, 2, 3, 3, 2, 3, 3, 2, 2, 2, 2, 2, 2, 2,...</td>\n",
              "    </tr>\n",
              "    <tr>\n",
              "      <th>4</th>\n",
              "      <td>00d7c36e-3cdf-4df6-ac03-6c30cdc8e85b</td>\n",
              "      <td>NaN</td>\n",
              "      <td>NaN</td>\n",
              "      <td>NaN</td>\n",
              "      <td>NaN</td>\n",
              "      <td>0</td>\n",
              "      <td>No Lung Opacity / Not Normal</td>\n",
              "      <td>70</td>\n",
              "      <td>M</td>\n",
              "      <td>[[255, 242, 219, 192, 172, 165, 166, 169, 168,...</td>\n",
              "    </tr>\n",
              "  </tbody>\n",
              "</table>\n",
              "</div>"
            ],
            "text/plain": [
              "                              patientId  ...                                              Image\n",
              "0  00436515-870c-4b36-a041-de91049b9ab4  ...  [[0, 1, 2, 3, 3, 2, 3, 3, 2, 2, 2, 2, 2, 2, 2,...\n",
              "1  00436515-870c-4b36-a041-de91049b9ab4  ...  [[0, 1, 2, 3, 3, 2, 3, 3, 2, 2, 2, 2, 2, 2, 2,...\n",
              "2  00436515-870c-4b36-a041-de91049b9ab4  ...  [[0, 1, 2, 3, 3, 2, 3, 3, 2, 2, 2, 2, 2, 2, 2,...\n",
              "3  00436515-870c-4b36-a041-de91049b9ab4  ...  [[0, 1, 2, 3, 3, 2, 3, 3, 2, 2, 2, 2, 2, 2, 2,...\n",
              "4  00d7c36e-3cdf-4df6-ac03-6c30cdc8e85b  ...  [[255, 242, 219, 192, 172, 165, 166, 169, 168,...\n",
              "\n",
              "[5 rows x 10 columns]"
            ]
          },
          "metadata": {
            "tags": []
          },
          "execution_count": 40
        }
      ]
    },
    {
      "cell_type": "code",
      "metadata": {
        "id": "kTNrNL4askUx",
        "colab_type": "code",
        "colab": {
          "base_uri": "https://localhost:8080/",
          "height": 204
        },
        "outputId": "fe6284aa-e762-4f83-a1b5-492786de940c"
      },
      "source": [
        "x=Data[['patientId','Image']]\n",
        "x.head()"
      ],
      "execution_count": 41,
      "outputs": [
        {
          "output_type": "execute_result",
          "data": {
            "text/html": [
              "<div>\n",
              "<style scoped>\n",
              "    .dataframe tbody tr th:only-of-type {\n",
              "        vertical-align: middle;\n",
              "    }\n",
              "\n",
              "    .dataframe tbody tr th {\n",
              "        vertical-align: top;\n",
              "    }\n",
              "\n",
              "    .dataframe thead th {\n",
              "        text-align: right;\n",
              "    }\n",
              "</style>\n",
              "<table border=\"1\" class=\"dataframe\">\n",
              "  <thead>\n",
              "    <tr style=\"text-align: right;\">\n",
              "      <th></th>\n",
              "      <th>patientId</th>\n",
              "      <th>Image</th>\n",
              "    </tr>\n",
              "  </thead>\n",
              "  <tbody>\n",
              "    <tr>\n",
              "      <th>0</th>\n",
              "      <td>00436515-870c-4b36-a041-de91049b9ab4</td>\n",
              "      <td>[[0, 1, 2, 3, 3, 2, 3, 3, 2, 2, 2, 2, 2, 2, 2,...</td>\n",
              "    </tr>\n",
              "    <tr>\n",
              "      <th>1</th>\n",
              "      <td>00436515-870c-4b36-a041-de91049b9ab4</td>\n",
              "      <td>[[0, 1, 2, 3, 3, 2, 3, 3, 2, 2, 2, 2, 2, 2, 2,...</td>\n",
              "    </tr>\n",
              "    <tr>\n",
              "      <th>2</th>\n",
              "      <td>00436515-870c-4b36-a041-de91049b9ab4</td>\n",
              "      <td>[[0, 1, 2, 3, 3, 2, 3, 3, 2, 2, 2, 2, 2, 2, 2,...</td>\n",
              "    </tr>\n",
              "    <tr>\n",
              "      <th>3</th>\n",
              "      <td>00436515-870c-4b36-a041-de91049b9ab4</td>\n",
              "      <td>[[0, 1, 2, 3, 3, 2, 3, 3, 2, 2, 2, 2, 2, 2, 2,...</td>\n",
              "    </tr>\n",
              "    <tr>\n",
              "      <th>4</th>\n",
              "      <td>00d7c36e-3cdf-4df6-ac03-6c30cdc8e85b</td>\n",
              "      <td>[[255, 242, 219, 192, 172, 165, 166, 169, 168,...</td>\n",
              "    </tr>\n",
              "  </tbody>\n",
              "</table>\n",
              "</div>"
            ],
            "text/plain": [
              "                              patientId                                              Image\n",
              "0  00436515-870c-4b36-a041-de91049b9ab4  [[0, 1, 2, 3, 3, 2, 3, 3, 2, 2, 2, 2, 2, 2, 2,...\n",
              "1  00436515-870c-4b36-a041-de91049b9ab4  [[0, 1, 2, 3, 3, 2, 3, 3, 2, 2, 2, 2, 2, 2, 2,...\n",
              "2  00436515-870c-4b36-a041-de91049b9ab4  [[0, 1, 2, 3, 3, 2, 3, 3, 2, 2, 2, 2, 2, 2, 2,...\n",
              "3  00436515-870c-4b36-a041-de91049b9ab4  [[0, 1, 2, 3, 3, 2, 3, 3, 2, 2, 2, 2, 2, 2, 2,...\n",
              "4  00d7c36e-3cdf-4df6-ac03-6c30cdc8e85b  [[255, 242, 219, 192, 172, 165, 166, 169, 168,..."
            ]
          },
          "metadata": {
            "tags": []
          },
          "execution_count": 41
        }
      ]
    },
    {
      "cell_type": "code",
      "metadata": {
        "id": "oKb3Z6xprZEO",
        "colab_type": "code",
        "colab": {}
      },
      "source": [
        "import numpy as np\n",
        "\n",
        "dict={'id':Data['patientId'],'x':Data['x'],'y':Data['y'],'width':Data['width'],'height':Data['height']}\n",
        "y=pd.DataFrame(dict)\n",
        "y['x'].replace(np.nan,0,inplace=True)\n",
        "y['y'].replace(np.nan,0,inplace=True)\n",
        "y['width'].replace(np.nan,0,inplace=True)\n",
        "y['height'].replace(np.nan,0,inplace=True)"
      ],
      "execution_count": 42,
      "outputs": []
    },
    {
      "cell_type": "code",
      "metadata": {
        "id": "_rPlxKYlqLRF",
        "colab_type": "code",
        "colab": {}
      },
      "source": [
        "from sklearn.model_selection import train_test_split\n",
        "x_train,x_test,y_train,y_test=train_test_split(x,y,train_size=0.6,test_size=0.4,random_state=123)"
      ],
      "execution_count": 43,
      "outputs": []
    },
    {
      "cell_type": "code",
      "metadata": {
        "id": "MhHVZ_M9rpeV",
        "colab_type": "code",
        "colab": {
          "base_uri": "https://localhost:8080/",
          "height": 85
        },
        "outputId": "caef96a5-623a-4463-b051-4f90e61ebad5"
      },
      "source": [
        "print(\"Shape of x_train\",x_train.shape)\n",
        "print(\"Shape of y_train\",y_train.shape)\n",
        "print(\"Shape of x_test\",x_test.shape)\n",
        "print(\"Shape of y_test\",y_test.shape)"
      ],
      "execution_count": 44,
      "outputs": [
        {
          "output_type": "stream",
          "text": [
            "Shape of x_train (1725, 2)\n",
            "Shape of y_train (1725, 5)\n",
            "Shape of x_test (1150, 2)\n",
            "Shape of y_test (1150, 5)\n"
          ],
          "name": "stdout"
        }
      ]
    },
    {
      "cell_type": "code",
      "metadata": {
        "id": "tCsr6KAws2ms",
        "colab_type": "code",
        "colab": {}
      },
      "source": [
        "import cv2\n",
        "from tensorflow.keras.applications.mobilenet import preprocess_input\n",
        "IMAGE_HEIGHT=224\n",
        "IMAGE_WIDTH=224\n",
        "\n",
        "X_train = np.zeros((x_train.shape[0], IMAGE_HEIGHT, IMAGE_WIDTH,3))\n",
        "for index in range(x_train.shape[0]):\n",
        "    img = x_train.iloc[index][1]\n",
        "    img = cv2.resize(img, dsize=(IMAGE_HEIGHT, IMAGE_WIDTH), interpolation=cv2.INTER_CUBIC)\n",
        "    img = cv2.cvtColor(img,cv2.COLOR_GRAY2RGB)\n",
        "    X_train[index] = preprocess_input(np.array(img, dtype=np.float32))"
      ],
      "execution_count": 45,
      "outputs": []
    },
    {
      "cell_type": "code",
      "metadata": {
        "id": "e5RGH9QOv43o",
        "colab_type": "code",
        "colab": {
          "base_uri": "https://localhost:8080/",
          "height": 34
        },
        "outputId": "1c88062f-75ff-44bf-83d2-6db0a2cec8ff"
      },
      "source": [
        "X_train.shape"
      ],
      "execution_count": null,
      "outputs": [
        {
          "output_type": "execute_result",
          "data": {
            "text/plain": [
              "(1725, 224, 224, 3)"
            ]
          },
          "metadata": {
            "tags": []
          },
          "execution_count": 29
        }
      ]
    },
    {
      "cell_type": "code",
      "metadata": {
        "id": "Fx1FIq941p2A",
        "colab_type": "code",
        "colab": {}
      },
      "source": [
        "masks = np.zeros((y_train.shape[0], IMAGE_HEIGHT, IMAGE_WIDTH))\n",
        "for i in range(y_train.shape[0]):\n",
        "  x1 = int(y_train.iloc[i]['x']*224/1024)\n",
        "  x2 = int(y_train.iloc[i]['width']*224/1024 + x1)\n",
        "  y1 = int(y_train.iloc[i]['y']*224/1024)\n",
        "  y2 = int(y_train.iloc[i]['height']*224/1024 + y1)\n",
        "\n",
        "  masks[i][y1:y2,x1:x2]=1\n"
      ],
      "execution_count": 46,
      "outputs": []
    },
    {
      "cell_type": "code",
      "metadata": {
        "id": "LFczObWA3kup",
        "colab_type": "code",
        "colab": {}
      },
      "source": [
        "X_test = np.zeros((x_test.shape[0], IMAGE_HEIGHT, IMAGE_WIDTH,3))\n",
        "for index in range(x_test.shape[0]):\n",
        "    img = x_test.iloc[index][1]\n",
        "    img = cv2.resize(img, dsize=(IMAGE_HEIGHT, IMAGE_WIDTH), interpolation=cv2.INTER_CUBIC)\n",
        "    img = cv2.cvtColor(img,cv2.COLOR_GRAY2RGB)\n",
        "    X_test[index] = preprocess_input(np.array(img, dtype=np.float32))"
      ],
      "execution_count": 47,
      "outputs": []
    },
    {
      "cell_type": "code",
      "metadata": {
        "id": "svpZ313a36-d",
        "colab_type": "code",
        "colab": {
          "base_uri": "https://localhost:8080/",
          "height": 34
        },
        "outputId": "04073350-f745-458a-a0b5-d1274299bbe0"
      },
      "source": [
        "X_test.shape"
      ],
      "execution_count": 48,
      "outputs": [
        {
          "output_type": "execute_result",
          "data": {
            "text/plain": [
              "(1150, 224, 224, 3)"
            ]
          },
          "metadata": {
            "tags": []
          },
          "execution_count": 48
        }
      ]
    },
    {
      "cell_type": "code",
      "metadata": {
        "id": "o0Jd89KE449W",
        "colab_type": "code",
        "colab": {}
      },
      "source": [
        "masks_test = np.zeros((y_test.shape[0], IMAGE_HEIGHT, IMAGE_WIDTH))\n",
        "for i in range(y_test.shape[0]):\n",
        "  x1 = int(y_test.iloc[i]['x']*224/1024)\n",
        "  x2 = int(y_test.iloc[i]['width']*224/1024 + x1)\n",
        "  y1 = int(y_test.iloc[i]['y']*224/1024)\n",
        "  y2 = int(y_test.iloc[i]['height']*224/1024 + y1)\n",
        "\n",
        "  masks_test[i][y1:y2,x1:x2]=1\n"
      ],
      "execution_count": 49,
      "outputs": []
    },
    {
      "cell_type": "code",
      "metadata": {
        "id": "hvUpYH6FCANq",
        "colab_type": "code",
        "colab": {
          "base_uri": "https://localhost:8080/",
          "height": 34
        },
        "outputId": "9293f797-9785-4235-d50b-d7d679c5dcb2"
      },
      "source": [
        "masks_test.shape"
      ],
      "execution_count": 50,
      "outputs": [
        {
          "output_type": "execute_result",
          "data": {
            "text/plain": [
              "(1150, 224, 224)"
            ]
          },
          "metadata": {
            "tags": []
          },
          "execution_count": 50
        }
      ]
    },
    {
      "cell_type": "code",
      "metadata": {
        "id": "U5zT0jsSCDsn",
        "colab_type": "code",
        "colab": {}
      },
      "source": [
        "from tensorflow.keras.applications.mobilenet import MobileNet\n",
        "from tensorflow.keras.layers import Concatenate, UpSampling2D, Conv2D, Reshape\n",
        "from tensorflow.keras.models import Model\n",
        "\n",
        "ALPHA=1\n",
        "def create_model(trainable=True):\n",
        "    model = MobileNet(input_shape=(IMAGE_HEIGHT, IMAGE_WIDTH, 3), include_top=False, alpha=ALPHA, weights=\"imagenet\")\n",
        "    for layer in model.layers:\n",
        "        layer.trainable = trainable\n",
        "\n",
        "    block1 = model.get_layer(\"conv_pw_5_relu\").output\n",
        "    block2 = model.get_layer(\"conv_pw_11_relu\").output\n",
        "    block3 = model.get_layer(\"conv_pw_13_relu\").output\n",
        "\n",
        "    x = Concatenate()([UpSampling2D()(block3), block2])\n",
        "    x = Concatenate()([UpSampling2D()(x), block1])\n",
        "    x = UpSampling2D()(x)\n",
        "    x = UpSampling2D()(x)\n",
        "    x = UpSampling2D()(x)\n",
        "\n",
        "    x = Conv2D(1, kernel_size=1, activation=\"sigmoid\")(x)\n",
        "    x = Reshape((224, 224))(x)\n",
        "\n",
        "    return Model(inputs=model.input, outputs=x)"
      ],
      "execution_count": 51,
      "outputs": []
    },
    {
      "cell_type": "code",
      "metadata": {
        "id": "MlYIhSUVCQGM",
        "colab_type": "code",
        "colab": {
          "base_uri": "https://localhost:8080/",
          "height": 1000
        },
        "outputId": "75ad5693-f059-46ea-e40f-b50d744b0e9d"
      },
      "source": [
        "model = create_model(False)\n",
        "model.summary()"
      ],
      "execution_count": 52,
      "outputs": [
        {
          "output_type": "stream",
          "text": [
            "Downloading data from https://storage.googleapis.com/tensorflow/keras-applications/mobilenet/mobilenet_1_0_224_tf_no_top.h5\n",
            "17227776/17225924 [==============================] - 0s 0us/step\n",
            "Model: \"functional_1\"\n",
            "__________________________________________________________________________________________________\n",
            "Layer (type)                    Output Shape         Param #     Connected to                     \n",
            "==================================================================================================\n",
            "input_1 (InputLayer)            [(None, 224, 224, 3) 0                                            \n",
            "__________________________________________________________________________________________________\n",
            "conv1_pad (ZeroPadding2D)       (None, 225, 225, 3)  0           input_1[0][0]                    \n",
            "__________________________________________________________________________________________________\n",
            "conv1 (Conv2D)                  (None, 112, 112, 32) 864         conv1_pad[0][0]                  \n",
            "__________________________________________________________________________________________________\n",
            "conv1_bn (BatchNormalization)   (None, 112, 112, 32) 128         conv1[0][0]                      \n",
            "__________________________________________________________________________________________________\n",
            "conv1_relu (ReLU)               (None, 112, 112, 32) 0           conv1_bn[0][0]                   \n",
            "__________________________________________________________________________________________________\n",
            "conv_dw_1 (DepthwiseConv2D)     (None, 112, 112, 32) 288         conv1_relu[0][0]                 \n",
            "__________________________________________________________________________________________________\n",
            "conv_dw_1_bn (BatchNormalizatio (None, 112, 112, 32) 128         conv_dw_1[0][0]                  \n",
            "__________________________________________________________________________________________________\n",
            "conv_dw_1_relu (ReLU)           (None, 112, 112, 32) 0           conv_dw_1_bn[0][0]               \n",
            "__________________________________________________________________________________________________\n",
            "conv_pw_1 (Conv2D)              (None, 112, 112, 64) 2048        conv_dw_1_relu[0][0]             \n",
            "__________________________________________________________________________________________________\n",
            "conv_pw_1_bn (BatchNormalizatio (None, 112, 112, 64) 256         conv_pw_1[0][0]                  \n",
            "__________________________________________________________________________________________________\n",
            "conv_pw_1_relu (ReLU)           (None, 112, 112, 64) 0           conv_pw_1_bn[0][0]               \n",
            "__________________________________________________________________________________________________\n",
            "conv_pad_2 (ZeroPadding2D)      (None, 113, 113, 64) 0           conv_pw_1_relu[0][0]             \n",
            "__________________________________________________________________________________________________\n",
            "conv_dw_2 (DepthwiseConv2D)     (None, 56, 56, 64)   576         conv_pad_2[0][0]                 \n",
            "__________________________________________________________________________________________________\n",
            "conv_dw_2_bn (BatchNormalizatio (None, 56, 56, 64)   256         conv_dw_2[0][0]                  \n",
            "__________________________________________________________________________________________________\n",
            "conv_dw_2_relu (ReLU)           (None, 56, 56, 64)   0           conv_dw_2_bn[0][0]               \n",
            "__________________________________________________________________________________________________\n",
            "conv_pw_2 (Conv2D)              (None, 56, 56, 128)  8192        conv_dw_2_relu[0][0]             \n",
            "__________________________________________________________________________________________________\n",
            "conv_pw_2_bn (BatchNormalizatio (None, 56, 56, 128)  512         conv_pw_2[0][0]                  \n",
            "__________________________________________________________________________________________________\n",
            "conv_pw_2_relu (ReLU)           (None, 56, 56, 128)  0           conv_pw_2_bn[0][0]               \n",
            "__________________________________________________________________________________________________\n",
            "conv_dw_3 (DepthwiseConv2D)     (None, 56, 56, 128)  1152        conv_pw_2_relu[0][0]             \n",
            "__________________________________________________________________________________________________\n",
            "conv_dw_3_bn (BatchNormalizatio (None, 56, 56, 128)  512         conv_dw_3[0][0]                  \n",
            "__________________________________________________________________________________________________\n",
            "conv_dw_3_relu (ReLU)           (None, 56, 56, 128)  0           conv_dw_3_bn[0][0]               \n",
            "__________________________________________________________________________________________________\n",
            "conv_pw_3 (Conv2D)              (None, 56, 56, 128)  16384       conv_dw_3_relu[0][0]             \n",
            "__________________________________________________________________________________________________\n",
            "conv_pw_3_bn (BatchNormalizatio (None, 56, 56, 128)  512         conv_pw_3[0][0]                  \n",
            "__________________________________________________________________________________________________\n",
            "conv_pw_3_relu (ReLU)           (None, 56, 56, 128)  0           conv_pw_3_bn[0][0]               \n",
            "__________________________________________________________________________________________________\n",
            "conv_pad_4 (ZeroPadding2D)      (None, 57, 57, 128)  0           conv_pw_3_relu[0][0]             \n",
            "__________________________________________________________________________________________________\n",
            "conv_dw_4 (DepthwiseConv2D)     (None, 28, 28, 128)  1152        conv_pad_4[0][0]                 \n",
            "__________________________________________________________________________________________________\n",
            "conv_dw_4_bn (BatchNormalizatio (None, 28, 28, 128)  512         conv_dw_4[0][0]                  \n",
            "__________________________________________________________________________________________________\n",
            "conv_dw_4_relu (ReLU)           (None, 28, 28, 128)  0           conv_dw_4_bn[0][0]               \n",
            "__________________________________________________________________________________________________\n",
            "conv_pw_4 (Conv2D)              (None, 28, 28, 256)  32768       conv_dw_4_relu[0][0]             \n",
            "__________________________________________________________________________________________________\n",
            "conv_pw_4_bn (BatchNormalizatio (None, 28, 28, 256)  1024        conv_pw_4[0][0]                  \n",
            "__________________________________________________________________________________________________\n",
            "conv_pw_4_relu (ReLU)           (None, 28, 28, 256)  0           conv_pw_4_bn[0][0]               \n",
            "__________________________________________________________________________________________________\n",
            "conv_dw_5 (DepthwiseConv2D)     (None, 28, 28, 256)  2304        conv_pw_4_relu[0][0]             \n",
            "__________________________________________________________________________________________________\n",
            "conv_dw_5_bn (BatchNormalizatio (None, 28, 28, 256)  1024        conv_dw_5[0][0]                  \n",
            "__________________________________________________________________________________________________\n",
            "conv_dw_5_relu (ReLU)           (None, 28, 28, 256)  0           conv_dw_5_bn[0][0]               \n",
            "__________________________________________________________________________________________________\n",
            "conv_pw_5 (Conv2D)              (None, 28, 28, 256)  65536       conv_dw_5_relu[0][0]             \n",
            "__________________________________________________________________________________________________\n",
            "conv_pw_5_bn (BatchNormalizatio (None, 28, 28, 256)  1024        conv_pw_5[0][0]                  \n",
            "__________________________________________________________________________________________________\n",
            "conv_pw_5_relu (ReLU)           (None, 28, 28, 256)  0           conv_pw_5_bn[0][0]               \n",
            "__________________________________________________________________________________________________\n",
            "conv_pad_6 (ZeroPadding2D)      (None, 29, 29, 256)  0           conv_pw_5_relu[0][0]             \n",
            "__________________________________________________________________________________________________\n",
            "conv_dw_6 (DepthwiseConv2D)     (None, 14, 14, 256)  2304        conv_pad_6[0][0]                 \n",
            "__________________________________________________________________________________________________\n",
            "conv_dw_6_bn (BatchNormalizatio (None, 14, 14, 256)  1024        conv_dw_6[0][0]                  \n",
            "__________________________________________________________________________________________________\n",
            "conv_dw_6_relu (ReLU)           (None, 14, 14, 256)  0           conv_dw_6_bn[0][0]               \n",
            "__________________________________________________________________________________________________\n",
            "conv_pw_6 (Conv2D)              (None, 14, 14, 512)  131072      conv_dw_6_relu[0][0]             \n",
            "__________________________________________________________________________________________________\n",
            "conv_pw_6_bn (BatchNormalizatio (None, 14, 14, 512)  2048        conv_pw_6[0][0]                  \n",
            "__________________________________________________________________________________________________\n",
            "conv_pw_6_relu (ReLU)           (None, 14, 14, 512)  0           conv_pw_6_bn[0][0]               \n",
            "__________________________________________________________________________________________________\n",
            "conv_dw_7 (DepthwiseConv2D)     (None, 14, 14, 512)  4608        conv_pw_6_relu[0][0]             \n",
            "__________________________________________________________________________________________________\n",
            "conv_dw_7_bn (BatchNormalizatio (None, 14, 14, 512)  2048        conv_dw_7[0][0]                  \n",
            "__________________________________________________________________________________________________\n",
            "conv_dw_7_relu (ReLU)           (None, 14, 14, 512)  0           conv_dw_7_bn[0][0]               \n",
            "__________________________________________________________________________________________________\n",
            "conv_pw_7 (Conv2D)              (None, 14, 14, 512)  262144      conv_dw_7_relu[0][0]             \n",
            "__________________________________________________________________________________________________\n",
            "conv_pw_7_bn (BatchNormalizatio (None, 14, 14, 512)  2048        conv_pw_7[0][0]                  \n",
            "__________________________________________________________________________________________________\n",
            "conv_pw_7_relu (ReLU)           (None, 14, 14, 512)  0           conv_pw_7_bn[0][0]               \n",
            "__________________________________________________________________________________________________\n",
            "conv_dw_8 (DepthwiseConv2D)     (None, 14, 14, 512)  4608        conv_pw_7_relu[0][0]             \n",
            "__________________________________________________________________________________________________\n",
            "conv_dw_8_bn (BatchNormalizatio (None, 14, 14, 512)  2048        conv_dw_8[0][0]                  \n",
            "__________________________________________________________________________________________________\n",
            "conv_dw_8_relu (ReLU)           (None, 14, 14, 512)  0           conv_dw_8_bn[0][0]               \n",
            "__________________________________________________________________________________________________\n",
            "conv_pw_8 (Conv2D)              (None, 14, 14, 512)  262144      conv_dw_8_relu[0][0]             \n",
            "__________________________________________________________________________________________________\n",
            "conv_pw_8_bn (BatchNormalizatio (None, 14, 14, 512)  2048        conv_pw_8[0][0]                  \n",
            "__________________________________________________________________________________________________\n",
            "conv_pw_8_relu (ReLU)           (None, 14, 14, 512)  0           conv_pw_8_bn[0][0]               \n",
            "__________________________________________________________________________________________________\n",
            "conv_dw_9 (DepthwiseConv2D)     (None, 14, 14, 512)  4608        conv_pw_8_relu[0][0]             \n",
            "__________________________________________________________________________________________________\n",
            "conv_dw_9_bn (BatchNormalizatio (None, 14, 14, 512)  2048        conv_dw_9[0][0]                  \n",
            "__________________________________________________________________________________________________\n",
            "conv_dw_9_relu (ReLU)           (None, 14, 14, 512)  0           conv_dw_9_bn[0][0]               \n",
            "__________________________________________________________________________________________________\n",
            "conv_pw_9 (Conv2D)              (None, 14, 14, 512)  262144      conv_dw_9_relu[0][0]             \n",
            "__________________________________________________________________________________________________\n",
            "conv_pw_9_bn (BatchNormalizatio (None, 14, 14, 512)  2048        conv_pw_9[0][0]                  \n",
            "__________________________________________________________________________________________________\n",
            "conv_pw_9_relu (ReLU)           (None, 14, 14, 512)  0           conv_pw_9_bn[0][0]               \n",
            "__________________________________________________________________________________________________\n",
            "conv_dw_10 (DepthwiseConv2D)    (None, 14, 14, 512)  4608        conv_pw_9_relu[0][0]             \n",
            "__________________________________________________________________________________________________\n",
            "conv_dw_10_bn (BatchNormalizati (None, 14, 14, 512)  2048        conv_dw_10[0][0]                 \n",
            "__________________________________________________________________________________________________\n",
            "conv_dw_10_relu (ReLU)          (None, 14, 14, 512)  0           conv_dw_10_bn[0][0]              \n",
            "__________________________________________________________________________________________________\n",
            "conv_pw_10 (Conv2D)             (None, 14, 14, 512)  262144      conv_dw_10_relu[0][0]            \n",
            "__________________________________________________________________________________________________\n",
            "conv_pw_10_bn (BatchNormalizati (None, 14, 14, 512)  2048        conv_pw_10[0][0]                 \n",
            "__________________________________________________________________________________________________\n",
            "conv_pw_10_relu (ReLU)          (None, 14, 14, 512)  0           conv_pw_10_bn[0][0]              \n",
            "__________________________________________________________________________________________________\n",
            "conv_dw_11 (DepthwiseConv2D)    (None, 14, 14, 512)  4608        conv_pw_10_relu[0][0]            \n",
            "__________________________________________________________________________________________________\n",
            "conv_dw_11_bn (BatchNormalizati (None, 14, 14, 512)  2048        conv_dw_11[0][0]                 \n",
            "__________________________________________________________________________________________________\n",
            "conv_dw_11_relu (ReLU)          (None, 14, 14, 512)  0           conv_dw_11_bn[0][0]              \n",
            "__________________________________________________________________________________________________\n",
            "conv_pw_11 (Conv2D)             (None, 14, 14, 512)  262144      conv_dw_11_relu[0][0]            \n",
            "__________________________________________________________________________________________________\n",
            "conv_pw_11_bn (BatchNormalizati (None, 14, 14, 512)  2048        conv_pw_11[0][0]                 \n",
            "__________________________________________________________________________________________________\n",
            "conv_pw_11_relu (ReLU)          (None, 14, 14, 512)  0           conv_pw_11_bn[0][0]              \n",
            "__________________________________________________________________________________________________\n",
            "conv_pad_12 (ZeroPadding2D)     (None, 15, 15, 512)  0           conv_pw_11_relu[0][0]            \n",
            "__________________________________________________________________________________________________\n",
            "conv_dw_12 (DepthwiseConv2D)    (None, 7, 7, 512)    4608        conv_pad_12[0][0]                \n",
            "__________________________________________________________________________________________________\n",
            "conv_dw_12_bn (BatchNormalizati (None, 7, 7, 512)    2048        conv_dw_12[0][0]                 \n",
            "__________________________________________________________________________________________________\n",
            "conv_dw_12_relu (ReLU)          (None, 7, 7, 512)    0           conv_dw_12_bn[0][0]              \n",
            "__________________________________________________________________________________________________\n",
            "conv_pw_12 (Conv2D)             (None, 7, 7, 1024)   524288      conv_dw_12_relu[0][0]            \n",
            "__________________________________________________________________________________________________\n",
            "conv_pw_12_bn (BatchNormalizati (None, 7, 7, 1024)   4096        conv_pw_12[0][0]                 \n",
            "__________________________________________________________________________________________________\n",
            "conv_pw_12_relu (ReLU)          (None, 7, 7, 1024)   0           conv_pw_12_bn[0][0]              \n",
            "__________________________________________________________________________________________________\n",
            "conv_dw_13 (DepthwiseConv2D)    (None, 7, 7, 1024)   9216        conv_pw_12_relu[0][0]            \n",
            "__________________________________________________________________________________________________\n",
            "conv_dw_13_bn (BatchNormalizati (None, 7, 7, 1024)   4096        conv_dw_13[0][0]                 \n",
            "__________________________________________________________________________________________________\n",
            "conv_dw_13_relu (ReLU)          (None, 7, 7, 1024)   0           conv_dw_13_bn[0][0]              \n",
            "__________________________________________________________________________________________________\n",
            "conv_pw_13 (Conv2D)             (None, 7, 7, 1024)   1048576     conv_dw_13_relu[0][0]            \n",
            "__________________________________________________________________________________________________\n",
            "conv_pw_13_bn (BatchNormalizati (None, 7, 7, 1024)   4096        conv_pw_13[0][0]                 \n",
            "__________________________________________________________________________________________________\n",
            "conv_pw_13_relu (ReLU)          (None, 7, 7, 1024)   0           conv_pw_13_bn[0][0]              \n",
            "__________________________________________________________________________________________________\n",
            "up_sampling2d (UpSampling2D)    (None, 14, 14, 1024) 0           conv_pw_13_relu[0][0]            \n",
            "__________________________________________________________________________________________________\n",
            "concatenate (Concatenate)       (None, 14, 14, 1536) 0           up_sampling2d[0][0]              \n",
            "                                                                 conv_pw_11_relu[0][0]            \n",
            "__________________________________________________________________________________________________\n",
            "up_sampling2d_1 (UpSampling2D)  (None, 28, 28, 1536) 0           concatenate[0][0]                \n",
            "__________________________________________________________________________________________________\n",
            "concatenate_1 (Concatenate)     (None, 28, 28, 1792) 0           up_sampling2d_1[0][0]            \n",
            "                                                                 conv_pw_5_relu[0][0]             \n",
            "__________________________________________________________________________________________________\n",
            "up_sampling2d_2 (UpSampling2D)  (None, 56, 56, 1792) 0           concatenate_1[0][0]              \n",
            "__________________________________________________________________________________________________\n",
            "up_sampling2d_3 (UpSampling2D)  (None, 112, 112, 179 0           up_sampling2d_2[0][0]            \n",
            "__________________________________________________________________________________________________\n",
            "up_sampling2d_4 (UpSampling2D)  (None, 224, 224, 179 0           up_sampling2d_3[0][0]            \n",
            "__________________________________________________________________________________________________\n",
            "conv2d (Conv2D)                 (None, 224, 224, 1)  1793        up_sampling2d_4[0][0]            \n",
            "__________________________________________________________________________________________________\n",
            "reshape (Reshape)               (None, 224, 224)     0           conv2d[0][0]                     \n",
            "==================================================================================================\n",
            "Total params: 3,230,657\n",
            "Trainable params: 1,793\n",
            "Non-trainable params: 3,228,864\n",
            "__________________________________________________________________________________________________\n"
          ],
          "name": "stdout"
        }
      ]
    },
    {
      "cell_type": "code",
      "metadata": {
        "id": "-93STn_0CSAI",
        "colab_type": "code",
        "colab": {}
      },
      "source": [
        "def dice_coefficient(y_true, y_pred):\n",
        "    numerator = 2 * tensorflow.reduce_sum(y_true * y_pred)\n",
        "    denominator = tensorflow.reduce_sum(y_true + y_pred)\n",
        "\n",
        "    return numerator / (denominator + tensorflow.keras.backend.epsilon())"
      ],
      "execution_count": 53,
      "outputs": []
    },
    {
      "cell_type": "code",
      "metadata": {
        "id": "kCKTf1lcCiwT",
        "colab_type": "code",
        "colab": {}
      },
      "source": [
        "from tensorflow.keras.losses import binary_crossentropy\n",
        "from tensorflow.keras.backend import log, epsilon\n",
        "def loss(y_true, y_pred):\n",
        "    return binary_crossentropy(y_true, y_pred) - log(dice_coefficient(y_true, y_pred) + epsilon())"
      ],
      "execution_count": 54,
      "outputs": []
    },
    {
      "cell_type": "code",
      "metadata": {
        "id": "rZBrHswWCpS6",
        "colab_type": "code",
        "colab": {}
      },
      "source": [
        "from tensorflow.keras.optimizers import Adam\n",
        "from tensorflow.keras.losses import binary_crossentropy\n",
        "\n",
        "optimizer = Adam(lr=1e-4, beta_1=0.9, beta_2=0.999, epsilon=None, decay=0.0, amsgrad=False)\n",
        "model.compile(loss=loss, optimizer=optimizer, metrics=[dice_coefficient])"
      ],
      "execution_count": 55,
      "outputs": []
    },
    {
      "cell_type": "code",
      "metadata": {
        "id": "6h9VpwhgCs7Q",
        "colab_type": "code",
        "colab": {
          "base_uri": "https://localhost:8080/",
          "height": 34
        },
        "outputId": "aa2cec35-d141-4189-feed-268c4295fe57"
      },
      "source": [
        "from tensorflow.keras.callbacks import ModelCheckpoint, EarlyStopping, ReduceLROnPlateau\n",
        "checkpoint = ModelCheckpoint(\"model-{loss:.2f}.h5\", monitor=\"loss\", verbose=1, save_best_only=True,\n",
        "                             save_weights_only=True, mode=\"min\", period=1)\n",
        "stop = EarlyStopping(monitor=\"loss\", patience=5, mode=\"min\")\n",
        "reduce_lr = ReduceLROnPlateau(monitor=\"loss\", factor=0.2, patience=5, min_lr=1e-6, verbose=1, mode=\"min\")"
      ],
      "execution_count": 56,
      "outputs": [
        {
          "output_type": "stream",
          "text": [
            "WARNING:tensorflow:`period` argument is deprecated. Please use `save_freq` to specify the frequency in number of batches seen.\n"
          ],
          "name": "stdout"
        }
      ]
    },
    {
      "cell_type": "code",
      "metadata": {
        "id": "p5rlj2J-EpJR",
        "colab_type": "code",
        "colab": {
          "base_uri": "https://localhost:8080/",
          "height": 884
        },
        "outputId": "0245821a-3b8c-401f-eecd-e292ac327d06"
      },
      "source": [
        "import tensorflow\n",
        "model.fit(X_train, masks, validation_data = (X_test,masks_test), epochs=25, batch_size=16, verbose=1)"
      ],
      "execution_count": 57,
      "outputs": [
        {
          "output_type": "stream",
          "text": [
            "Epoch 1/25\n",
            "108/108 [==============================] - 707s 7s/step - loss: 2.7973 - dice_coefficient: 0.1018 - val_loss: 2.3056 - val_dice_coefficient: 0.1275\n",
            "Epoch 2/25\n",
            "108/108 [==============================] - 647s 6s/step - loss: 2.1780 - dice_coefficient: 0.1420 - val_loss: 2.0134 - val_dice_coefficient: 0.1655\n",
            "Epoch 3/25\n",
            "108/108 [==============================] - 631s 6s/step - loss: 1.9712 - dice_coefficient: 0.1731 - val_loss: 1.8439 - val_dice_coefficient: 0.1925\n",
            "Epoch 4/25\n",
            "108/108 [==============================] - 642s 6s/step - loss: 1.8035 - dice_coefficient: 0.1980 - val_loss: 1.7330 - val_dice_coefficient: 0.2144\n",
            "Epoch 5/25\n",
            "108/108 [==============================] - 645s 6s/step - loss: 1.7134 - dice_coefficient: 0.2169 - val_loss: 1.6603 - val_dice_coefficient: 0.2295\n",
            "Epoch 6/25\n",
            "108/108 [==============================] - 642s 6s/step - loss: 1.6673 - dice_coefficient: 0.2305 - val_loss: 1.6082 - val_dice_coefficient: 0.2410\n",
            "Epoch 7/25\n",
            "108/108 [==============================] - 632s 6s/step - loss: 1.5843 - dice_coefficient: 0.2455 - val_loss: 1.5678 - val_dice_coefficient: 0.2515\n",
            "Epoch 8/25\n",
            "108/108 [==============================] - 645s 6s/step - loss: 1.5410 - dice_coefficient: 0.2548 - val_loss: 1.5437 - val_dice_coefficient: 0.2559\n",
            "Epoch 9/25\n",
            "108/108 [==============================] - 659s 6s/step - loss: 1.5098 - dice_coefficient: 0.2630 - val_loss: 1.5111 - val_dice_coefficient: 0.2659\n",
            "Epoch 10/25\n",
            "108/108 [==============================] - 657s 6s/step - loss: 1.4802 - dice_coefficient: 0.2706 - val_loss: 1.4931 - val_dice_coefficient: 0.2702\n",
            "Epoch 11/25\n",
            "108/108 [==============================] - 660s 6s/step - loss: 1.4792 - dice_coefficient: 0.2739 - val_loss: 1.4761 - val_dice_coefficient: 0.2752\n",
            "Epoch 12/25\n",
            "108/108 [==============================] - 658s 6s/step - loss: 1.4427 - dice_coefficient: 0.2801 - val_loss: 1.4647 - val_dice_coefficient: 0.2779\n",
            "Epoch 13/25\n",
            "108/108 [==============================] - 658s 6s/step - loss: 1.4440 - dice_coefficient: 0.2822 - val_loss: 1.4477 - val_dice_coefficient: 0.2838\n",
            "Epoch 14/25\n",
            "108/108 [==============================] - 657s 6s/step - loss: 1.4132 - dice_coefficient: 0.2881 - val_loss: 1.4383 - val_dice_coefficient: 0.2862\n",
            "Epoch 15/25\n",
            "108/108 [==============================] - 656s 6s/step - loss: 1.4124 - dice_coefficient: 0.2923 - val_loss: 1.4292 - val_dice_coefficient: 0.2890\n",
            "Epoch 16/25\n",
            "108/108 [==============================] - 658s 6s/step - loss: 1.3879 - dice_coefficient: 0.2962 - val_loss: 1.4255 - val_dice_coefficient: 0.2896\n",
            "Epoch 17/25\n",
            "108/108 [==============================] - 645s 6s/step - loss: 1.3829 - dice_coefficient: 0.2988 - val_loss: 1.4127 - val_dice_coefficient: 0.2949\n",
            "Epoch 18/25\n",
            "108/108 [==============================] - 657s 6s/step - loss: 1.3727 - dice_coefficient: 0.3006 - val_loss: 1.4091 - val_dice_coefficient: 0.2949\n",
            "Epoch 19/25\n",
            "108/108 [==============================] - 663s 6s/step - loss: 1.3705 - dice_coefficient: 0.3032 - val_loss: 1.4044 - val_dice_coefficient: 0.2964\n",
            "Epoch 20/25\n",
            "108/108 [==============================] - 660s 6s/step - loss: 1.3534 - dice_coefficient: 0.3075 - val_loss: 1.4065 - val_dice_coefficient: 0.2952\n",
            "Epoch 21/25\n",
            "108/108 [==============================] - 658s 6s/step - loss: 1.3465 - dice_coefficient: 0.3098 - val_loss: 1.3924 - val_dice_coefficient: 0.3003\n",
            "Epoch 22/25\n",
            "108/108 [==============================] - 656s 6s/step - loss: 1.3397 - dice_coefficient: 0.3119 - val_loss: 1.3878 - val_dice_coefficient: 0.3018\n",
            "Epoch 23/25\n",
            "108/108 [==============================] - 652s 6s/step - loss: 1.3547 - dice_coefficient: 0.3141 - val_loss: 1.3859 - val_dice_coefficient: 0.3021\n",
            "Epoch 24/25\n",
            "108/108 [==============================] - 657s 6s/step - loss: 1.3278 - dice_coefficient: 0.3158 - val_loss: 1.3918 - val_dice_coefficient: 0.2999\n",
            "Epoch 25/25\n",
            "108/108 [==============================] - 635s 6s/step - loss: 1.3207 - dice_coefficient: 0.3172 - val_loss: 1.3791 - val_dice_coefficient: 0.3044\n"
          ],
          "name": "stdout"
        },
        {
          "output_type": "execute_result",
          "data": {
            "text/plain": [
              "<tensorflow.python.keras.callbacks.History at 0x7f9e7411e630>"
            ]
          },
          "metadata": {
            "tags": []
          },
          "execution_count": 57
        }
      ]
    },
    {
      "cell_type": "code",
      "metadata": {
        "id": "EcETI2dwioQW",
        "colab_type": "code",
        "colab": {}
      },
      "source": [
        ""
      ],
      "execution_count": null,
      "outputs": []
    },
    {
      "cell_type": "code",
      "metadata": {
        "id": "xGE3cqpNNvY4",
        "colab_type": "code",
        "colab": {}
      },
      "source": [
        ""
      ],
      "execution_count": null,
      "outputs": []
    }
  ]
}